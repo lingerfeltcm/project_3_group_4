{
 "cells": [
  {
   "cell_type": "code",
   "execution_count": 1,
   "metadata": {},
   "outputs": [],
   "source": [
    "%matplotlib inline\n",
    "from matplotlib import style\n",
    "style.use('fivethirtyeight')\n",
    "import matplotlib.pyplot as plt"
   ]
  },
  {
   "cell_type": "code",
   "execution_count": 4,
   "metadata": {},
   "outputs": [],
   "source": [
    "import numpy as np\n",
    "import pandas as pd\n",
    "import datetime as dt\n",
    "import sqlite3"
   ]
  },
  {
   "cell_type": "markdown",
   "metadata": {},
   "source": [
    "# Reflect Tables into SQLAlchemy ORM"
   ]
  },
  {
   "cell_type": "code",
   "execution_count": 5,
   "metadata": {},
   "outputs": [],
   "source": [
    "# Python SQL toolkit and Object Relational Mapper\n",
    "import sqlalchemy\n",
    "from sqlalchemy.ext.automap import automap_base\n",
    "from sqlalchemy.orm import Session\n",
    "from sqlalchemy import create_engine, func\n",
    "from sqlalchemy import desc"
   ]
  },
  {
   "cell_type": "code",
   "execution_count": 6,
   "metadata": {},
   "outputs": [],
   "source": [
    "# create engine to hawaii.sqlite\n",
    "engine = create_engine(\"path to sqlite file\") # get this from git hub"
   ]
  },
  {
   "cell_type": "code",
   "execution_count": 6,
   "metadata": {},
   "outputs": [
    {
     "ename": "NameError",
     "evalue": "name 'engine' is not defined",
     "output_type": "error",
     "traceback": [
      "\u001b[1;31m---------------------------------------------------------------------------\u001b[0m",
      "\u001b[1;31mNameError\u001b[0m                                 Traceback (most recent call last)",
      "Cell \u001b[1;32mIn[6], line 3\u001b[0m\n\u001b[0;32m      1\u001b[0m \u001b[38;5;66;03m# reflect an existing database into a new model\u001b[39;00m\n\u001b[0;32m      2\u001b[0m Base \u001b[38;5;241m=\u001b[39m automap_base()\n\u001b[1;32m----> 3\u001b[0m Base\u001b[38;5;241m.\u001b[39mprepare(\u001b[43mengine\u001b[49m, reflect\u001b[38;5;241m=\u001b[39m\u001b[38;5;28;01mTrue\u001b[39;00m)\n\u001b[0;32m      6\u001b[0m \u001b[38;5;66;03m# reflect the tables\u001b[39;00m\n\u001b[0;32m      7\u001b[0m Recalls \u001b[38;5;241m=\u001b[39m Base\u001b[38;5;241m.\u001b[39mclasses\u001b[38;5;241m.\u001b[39mrecalls\n",
      "\u001b[1;31mNameError\u001b[0m: name 'engine' is not defined"
     ]
    }
   ],
   "source": [
    "# reflect an existing database into a new model\n",
    "Base = automap_base()\n",
    "Base.prepare(engine, reflect=True)\n",
    "\n",
    "\n",
    "# reflect the tables\n",
    "Recalls = Base.classes.recalls\n"
   ]
  },
  {
   "cell_type": "code",
   "execution_count": 8,
   "metadata": {},
   "outputs": [
    {
     "name": "stdout",
     "output_type": "stream",
     "text": [
      "measurement\n",
      "station\n"
     ]
    }
   ],
   "source": [
    "# View all of the classes that automap found\n",
    "all_classes = Base.classes\n",
    "for cls_name in all_classes.keys():\n",
    "    print(cls_name)"
   ]
  },
  {
   "cell_type": "code",
   "execution_count": 9,
   "metadata": {},
   "outputs": [],
   "source": [
    "# Save references to each table\n",
    "Recalls = Base.classes.station\n"
   ]
  },
  {
   "cell_type": "code",
   "execution_count": 10,
   "metadata": {},
   "outputs": [],
   "source": [
    "# Create our session (link) from Python to the DB\n",
    "session = Session(engine)"
   ]
  },
  {
   "cell_type": "markdown",
   "metadata": {},
   "source": [
    "# Exploratory Drug Recall Analysis"
   ]
  },
  {
   "cell_type": "code",
   "execution_count": 11,
   "metadata": {},
   "outputs": [
    {
     "name": "stdout",
     "output_type": "stream",
     "text": [
      "The most recent date in the dataset is: 2017-08-23\n"
     ]
    }
   ],
   "source": [
    "# Find the most recent date in the data set.\n",
    "most_recent_date = session.query(Measurement.date).order_by(desc(Measurement.date)).first()\n",
    "\n",
    "# Extract the date value from the result\n",
    "most_recent_date = most_recent_date[0] if most_recent_date else None\n",
    "\n",
    "print(\"The most recent date in the dataset is:\", most_recent_date)\n"
   ]
  },
  {
   "cell_type": "code",
   "execution_count": null,
   "metadata": {},
   "outputs": [],
   "source": [
    "annual_recalls = session.query(recalls.Recall_begins, recalls.event_id)\n",
    "\n",
    "query = '''\n",
    "        SELECT strftime('%Y', recall_date) as year, COUNT(*) as num_recalls\n",
    "        FROM recalls\n",
    "        GROUP BY year\n",
    "        ORDER BY year\n",
    "        '''\n",
    "\n",
    "# Execute the query and load data into a DataFrame\n",
    "df = pd.read_sql(query, conn)\n",
    "\n",
    "# Close the database connection\n",
    "conn.close()\n",
    "\n",
    "# Convert year column to datetime\n",
    "df['year'] = pd.to_datetime(df['year'])\n",
    "\n",
    "# Plot the trend line\n",
    "plt.figure(figsize=(10, 6))\n",
    "plt.plot(df['year'], df['num_recalls'], marker='o')\n",
    "plt.title('Recalls by Year')\n",
    "plt.xlabel('Year')\n",
    "plt.ylabel('Number of Recalls')\n",
    "plt.grid(True)\n",
    "plt.xticks(rotation=45)\n",
    "plt.tight_layout()\n",
    "plt.show()"
   ]
  },
  {
   "cell_type": "code",
   "execution_count": null,
   "metadata": {},
   "outputs": [],
   "source": [
    "#Query to show bar graph of # of recalls by reason\n",
    "\n",
    "# Write your SQL query to retrieve the necessary data\n",
    "query = '''\n",
    "        SELECT Substance_Name, COUNT(*) as num_recalls\n",
    "        FROM recalls\n",
    "        GROUP BY Reason\n",
    "        ORDER BY num_recalls DESC\n",
    "        '''\n",
    "\n",
    "# Execute the query and load data into a DataFrame\n",
    "df = pd.read_sql(query, conn)\n",
    "\n",
    "# Close the database connection\n",
    "conn.close()\n",
    "\n",
    "# Plot the bar chart\n",
    "plt.figure(figsize=(10, 6))\n",
    "plt.bar(df['Substance_Name'], df['num_recalls'])\n",
    "plt.title('Volume of Recalls by Reason')\n",
    "plt.xlabel('Reason')\n",
    "plt.ylabel('Number of Recalls')\n",
    "plt.xticks(rotation=90)\n",
    "plt.tight_layout()\n",
    "plt.show()\n"
   ]
  },
  {
   "cell_type": "code",
   "execution_count": null,
   "metadata": {},
   "outputs": [],
   "source": [
    "#code to show in bar graph the number of recalls by recalling_firm\n",
    "\n",
    "# Write your SQL query to retrieve the necessary data\n",
    "query = '''\n",
    "        SELECT Recalling_Firm, COUNT(*) as num_recalls\n",
    "        FROM recalls\n",
    "        GROUP BY Recalling_Firm\n",
    "        ORDER BY num_recalls DESC\n",
    "        '''\n",
    "\n",
    "# Execute the query and load data into a DataFrame\n",
    "df = pd.read_sql(query, conn)\n",
    "\n",
    "# Close the database connection\n",
    "conn.close()\n",
    "\n",
    "# Plot the bar chart\n",
    "plt.figure(figsize=(10, 6))\n",
    "plt.bar(df['Recalling_Firm'], df['num_recalls'])\n",
    "plt.title('Number of Recalls by Recalling Firm')\n",
    "plt.xlabel('Recalling Firm')\n",
    "plt.ylabel('Number of Recalls')\n",
    "plt.xticks(rotation=90)\n",
    "plt.tight_layout()\n",
    "plt.show()\n"
   ]
  },
  {
   "cell_type": "code",
   "execution_count": null,
   "metadata": {},
   "outputs": [],
   "source": [
    "#code to display the % of recalls by classification \n",
    "\n",
    "# Write your SQL query to retrieve the necessary data\n",
    "query = '''\n",
    "        SELECT Classification, COUNT(*) as num_recalls\n",
    "        FROM recalls\n",
    "        GROUP BY Classification\n",
    "        ORDER BY num_recalls DESC\n",
    "        '''\n",
    "\n",
    "# Execute the query and load data into a DataFrame\n",
    "df = pd.read_sql(query, conn)\n",
    "\n",
    "# Calculate the percentage of recalls for each classification\n",
    "df['percentage'] = (df['num_recalls'] / df['num_recalls'].sum()) * 100\n",
    "\n",
    "# Close the database connection\n",
    "conn.close()\n",
    "\n",
    "# Plot the bar chart\n",
    "plt.figure(figsize=(10, 6))\n",
    "plt.bar(df['Classification'], df['percentage'])\n",
    "plt.title('Percentage of Recalls by Classification')\n",
    "plt.xlabel('Classification')\n",
    "plt.ylabel('Percentage of Recalls')\n",
    "plt.xticks(rotation=90)\n",
    "plt.tight_layout()\n",
    "plt.show()\n"
   ]
  },
  {
   "cell_type": "code",
   "execution_count": null,
   "metadata": {},
   "outputs": [],
   "source": [
    "#code to show % of recalls that were voluntary vs mandated\n",
    "\n",
    "# Write your SQL query to retrieve the necessary data\n",
    "query = '''\n",
    "        SELECT Voluntary_Mandated, COUNT(*) as num_recalls\n",
    "        FROM recalls\n",
    "        GROUP BY Voluntary_Mandated\n",
    "        ORDER BY num_recalls DESC\n",
    "        '''\n",
    "\n",
    "# Execute the query and load data into a DataFrame\n",
    "df = pd.read_sql(query, conn)\n",
    "\n",
    "# Calculate the percentage of recalls for each category\n",
    "df['percentage'] = (df['num_recalls'] / df['num_recalls'].sum()) * 100\n",
    "\n",
    "# Close the database connection\n",
    "conn.close()\n",
    "\n",
    "# Plot the bar chart\n",
    "plt.figure(figsize=(6, 6))\n",
    "plt.bar(df['Voluntary_Mandated'], df['percentage'])\n",
    "plt.title('Percentage of Recalls by Voluntary_Mandated')\n",
    "plt.xlabel('Voluntary/Mandated')\n",
    "plt.ylabel('Percentage of Recalls')\n",
    "plt.tight_layout()\n",
    "plt.show()\n"
   ]
  },
  {
   "cell_type": "code",
   "execution_count": null,
   "metadata": {},
   "outputs": [],
   "source": [
    "#code to show the average time (in years) that a recall lasted by reason type\n",
    "\n",
    "# Write your SQL query to retrieve the necessary data\n",
    "query = '''\n",
    "        SELECT Reason, AVG((julianday(Recall_End) - julianday(Recall_Begins)) / 365) AS avg_duration_years\n",
    "        FROM recalls\n",
    "        WHERE Recall_End IS NOT NULL AND Recall_Begins IS NOT NULL\n",
    "        GROUP BY Reason\n",
    "        ORDER BY avg_duration_years DESC\n",
    "        '''\n",
    "\n",
    "# Execute the query and load data into a DataFrame\n",
    "df = pd.read_sql(query, conn)\n",
    "\n",
    "# Close the database connection\n",
    "conn.close()\n",
    "\n",
    "# Plot the bar chart\n",
    "plt.figure(figsize=(10, 6))\n",
    "plt.bar(df['Reason'], df['avg_duration_years'])\n",
    "plt.title('Average Recall Duration by Reason')\n",
    "plt.xlabel('Reason')\n",
    "plt.ylabel('Average Duration (Years)')\n",
    "plt.xticks(rotation=90)\n",
    "plt.tight_layout()\n",
    "plt.show()\n"
   ]
  },
  {
   "cell_type": "code",
   "execution_count": null,
   "metadata": {},
   "outputs": [],
   "source": [
    "#code to show the % of recalls by state\n",
    "\n",
    "# Write your SQL query to retrieve the necessary data\n",
    "query = '''\n",
    "        SELECT State, COUNT(*) as num_recalls\n",
    "        FROM recalls\n",
    "        GROUP BY State\n",
    "        ORDER BY num_recalls DESC\n",
    "        '''\n",
    "\n",
    "# Execute the query and load data into a DataFrame\n",
    "df = pd.read_sql(query, conn)\n",
    "\n",
    "# Calculate the percentage of recalls for each state\n",
    "df['percentage'] = (df['num_recalls'] / df['num_recalls'].sum()) * 100\n",
    "\n",
    "# Close the database connection\n",
    "conn.close()\n",
    "\n",
    "# Plot the bar chart\n",
    "plt.figure(figsize=(12, 6))\n",
    "plt.bar(df['State'], df['percentage'])\n",
    "plt.title('Percentage of Recalls by State')\n",
    "plt.xlabel('State')\n",
    "plt.ylabel('Percentage of Recalls')\n",
    "plt.xticks(rotation=90)\n",
    "plt.tight_layout()\n",
    "plt.show()\n"
   ]
  },
  {
   "cell_type": "code",
   "execution_count": 14,
   "metadata": {},
   "outputs": [
    {
     "name": "stdout",
     "output_type": "stream",
     "text": [
      "       Precipitation\n",
      "count    2021.000000\n",
      "mean        0.177279\n",
      "std         0.461190\n",
      "min         0.000000\n",
      "25%         0.000000\n",
      "50%         0.020000\n",
      "75%         0.130000\n",
      "max         6.700000\n"
     ]
    }
   ],
   "source": [
    "# Use Pandas to calculate the summary statistics data\n",
    "summary_statistics = df.describe()\n",
    "\n",
    "# Print the summary statistics\n",
    "print(summary_statistics)\n"
   ]
  },
  {
   "cell_type": "markdown",
   "metadata": {},
   "source": [
    "# Close Session"
   ]
  },
  {
   "cell_type": "code",
   "execution_count": 19,
   "metadata": {},
   "outputs": [],
   "source": [
    "# Close Session\n",
    "session.close()"
   ]
  },
  {
   "cell_type": "code",
   "execution_count": null,
   "metadata": {},
   "outputs": [],
   "source": []
  }
 ],
 "metadata": {
  "anaconda-cloud": {},
  "kernel_info": {
   "name": "python3"
  },
  "kernelspec": {
   "display_name": "Python 3 (ipykernel)",
   "language": "python",
   "name": "python3"
  },
  "language_info": {
   "codemirror_mode": {
    "name": "ipython",
    "version": 3
   },
   "file_extension": ".py",
   "mimetype": "text/x-python",
   "name": "python",
   "nbconvert_exporter": "python",
   "pygments_lexer": "ipython3",
   "version": "3.10.13"
  },
  "nteract": {
   "version": "0.12.3"
  },
  "varInspector": {
   "cols": {
    "lenName": 16,
    "lenType": 16,
    "lenVar": 40
   },
   "kernels_config": {
    "python": {
     "delete_cmd_postfix": "",
     "delete_cmd_prefix": "del ",
     "library": "var_list.py",
     "varRefreshCmd": "print(var_dic_list())"
    },
    "r": {
     "delete_cmd_postfix": ") ",
     "delete_cmd_prefix": "rm(",
     "library": "var_list.r",
     "varRefreshCmd": "cat(var_dic_list()) "
    }
   },
   "types_to_exclude": [
    "module",
    "function",
    "builtin_function_or_method",
    "instance",
    "_Feature"
   ],
   "window_display": false
  }
 },
 "nbformat": 4,
 "nbformat_minor": 2
}
